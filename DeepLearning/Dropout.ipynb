{
 "cells": [
  {
   "cell_type": "code",
   "execution_count": 2,
   "metadata": {},
   "outputs": [],
   "source": [
    "import numpy as np"
   ]
  },
  {
   "cell_type": "code",
   "execution_count": 4,
   "metadata": {},
   "outputs": [
    {
     "name": "stdout",
     "output_type": "stream",
     "text": [
      "[1 1 0 1 1 1 1 0 0 0]\n",
      "[1. 2. 0. 4. 5. 6. 7. 0. 0. 0.]\n"
     ]
    },
    {
     "data": {
      "text/plain": [
       "array([ 1.6666666,  3.3333333,  0.       ,  6.6666665,  8.333333 ,\n",
       "       10.       , 11.666666 ,  0.       ,  0.       ,  0.       ],\n",
       "      dtype=float32)"
      ]
     },
     "execution_count": 4,
     "metadata": {},
     "output_type": "execute_result"
    }
   ],
   "source": [
    "def dropout(x, level):\n",
    "    if level < 0. or level >= 1:\n",
    "        raise Exception(\"Drouput level must be in interval [0, 1]\")\n",
    "    retain_prob = 1. - level\n",
    "    \n",
    "    sample = np.random.binomial(n=1, p=retain_prob, size=x.shape)\n",
    "    print (sample)\n",
    "    \n",
    "    x *= sample\n",
    "    print (x)\n",
    "    x /= retain_prob\n",
    "    \n",
    "    return x\n",
    "\n",
    "x = np.asarray([1,2,3,4,5,6,7,8,9,10], dtype=np.float32)\n",
    "dropout(x, 0.4)"
   ]
  },
  {
   "cell_type": "code",
   "execution_count": null,
   "metadata": {},
   "outputs": [],
   "source": []
  }
 ],
 "metadata": {
  "kernelspec": {
   "display_name": "Python 3",
   "language": "python",
   "name": "python3"
  },
  "language_info": {
   "codemirror_mode": {
    "name": "ipython",
    "version": 3
   },
   "file_extension": ".py",
   "mimetype": "text/x-python",
   "name": "python",
   "nbconvert_exporter": "python",
   "pygments_lexer": "ipython3",
   "version": "3.6.8"
  }
 },
 "nbformat": 4,
 "nbformat_minor": 2
}
