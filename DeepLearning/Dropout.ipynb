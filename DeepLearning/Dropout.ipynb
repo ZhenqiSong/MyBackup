{
 "cells": [
  {
   "cell_type": "code",
   "execution_count": 2,
   "metadata": {},
   "outputs": [],
   "source": [
    "import numpy as np"
   ]
  },
  {
   "cell_type": "code",
   "execution_count": null,
   "metadata": {},
   "outputs": [],
   "source": [
    "def dropout(x, level):\n",
    "    if level < 0. or level >= 1:\n",
    "        raise Exception(\"Drouput level must be in interval [0, 1]\")\n",
    "    retain_prob = 1. - level\n",
    "    \n",
    "    sample = np.random.binomial(n=1, p=retain_prob, size=x.shape)\n",
    "    print sample\n",
    "    \n",
    "    x *= sample\n",
    "    print (x)\n",
    "    x /= retain_prob\n",
    "    \n",
    "    return x\n",
    "\n",
    "x = np.asarray([1,2,3,4,5,6,])"
   ]
  }
 ],
 "metadata": {
  "kernelspec": {
   "display_name": "Python 3",
   "language": "python",
   "name": "python3"
  },
  "language_info": {
   "codemirror_mode": {
    "name": "ipython",
    "version": 3
   },
   "file_extension": ".py",
   "mimetype": "text/x-python",
   "name": "python",
   "nbconvert_exporter": "python",
   "pygments_lexer": "ipython3",
   "version": "3.6.8"
  }
 },
 "nbformat": 4,
 "nbformat_minor": 2
}
